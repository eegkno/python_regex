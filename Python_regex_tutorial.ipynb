{
 "cells": [
  {
   "cell_type": "code",
   "execution_count": null,
   "metadata": {},
   "outputs": [],
   "source": [
    "import re"
   ]
  },
  {
   "cell_type": "markdown",
   "metadata": {},
   "source": [
    "## To use or not to use re.compile()"
   ]
  },
  {
   "cell_type": "code",
   "execution_count": null,
   "metadata": {},
   "outputs": [],
   "source": [
    "!python -m timeit -s \"import re\" \"re.match('hello', 'hello world')\""
   ]
  },
  {
   "cell_type": "code",
   "execution_count": null,
   "metadata": {},
   "outputs": [],
   "source": [
    "!python -m timeit -s \"import re; h=re.compile('hello')\" \"h.match('hello world')\""
   ]
  },
  {
   "cell_type": "code",
   "execution_count": null,
   "metadata": {},
   "outputs": [],
   "source": [
    "!python -m timeit -s \"import re; n=1000\" \"[ re.match('hello', 'hello world') for i in range(n) ]\""
   ]
  },
  {
   "cell_type": "code",
   "execution_count": null,
   "metadata": {},
   "outputs": [],
   "source": [
    "!python -m timeit -s \"import re; n=1000\" \"h=re.compile('hello'); [ h.match('hello world') for i in range(n) ]\""
   ]
  },
  {
   "cell_type": "markdown",
   "metadata": {},
   "source": [
    "**Hint**: If you need to use a particular pattern multiple times, it's better to compile it"
   ]
  },
  {
   "cell_type": "markdown",
   "metadata": {},
   "source": [
    "## split()"
   ]
  },
  {
   "cell_type": "code",
   "execution_count": null,
   "metadata": {},
   "outputs": [],
   "source": [
    "text = \"Intact Financial Corporation is   the largest   provider of property and casualty   insurance in Canada\""
   ]
  },
  {
   "cell_type": "code",
   "execution_count": null,
   "metadata": {},
   "outputs": [],
   "source": [
    "text.split()"
   ]
  },
  {
   "cell_type": "code",
   "execution_count": null,
   "metadata": {},
   "outputs": [],
   "source": [
    "regex = re.compile(r'\\s+')\n",
    "re.split(regex, text)"
   ]
  },
  {
   "cell_type": "markdown",
   "metadata": {},
   "source": [
    "## findall()"
   ]
  },
  {
   "cell_type": "code",
   "execution_count": null,
   "metadata": {},
   "outputs": [],
   "source": [
    "text = \"Headquarters: Toronto\\nRevenue: 8.747 billion CAD (2017)\\nNumber of employees: Over 13,000 (2017)\"\n",
    "print(text)"
   ]
  },
  {
   "cell_type": "code",
   "execution_count": null,
   "metadata": {},
   "outputs": [],
   "source": [
    "regex = re.compile('\\d+')\n",
    "regex.findall(text)"
   ]
  },
  {
   "cell_type": "markdown",
   "metadata": {},
   "source": [
    "#### Task: ['8.747', '2017', '13,000', '2017']"
   ]
  },
  {
   "cell_type": "code",
   "execution_count": null,
   "metadata": {},
   "outputs": [],
   "source": [
    "regex = re.compile('\\d+[\\.,]{0,1}\\d+')\n",
    "re.findall(regex, text)"
   ]
  },
  {
   "cell_type": "markdown",
   "metadata": {},
   "source": [
    "## search() vs. match()"
   ]
  },
  {
   "cell_type": "markdown",
   "metadata": {},
   "source": [
    "Python offers two different primitive operations based on regular expressions: re.match() checks for a match only at the beginning of the string, while re.search() checks for a match anywhere in the string "
   ]
  },
  {
   "cell_type": "code",
   "execution_count": 84,
   "metadata": {},
   "outputs": [],
   "source": [
    "text = \"Headquarters: Toronto\\nRevenue: 8.747 billion CAD (2017)\\nNumber of employees: Over 13,000 (2017)\""
   ]
  },
  {
   "cell_type": "code",
   "execution_count": 85,
   "metadata": {},
   "outputs": [
    {
     "name": "stdout",
     "output_type": "stream",
     "text": [
      "Headquarters: Toronto\n",
      "Revenue: 8.747 billion CAD (2017)\n",
      "Number of employees: Over 13,000 (2017)\n"
     ]
    }
   ],
   "source": [
    "print(text)"
   ]
  },
  {
   "cell_type": "code",
   "execution_count": 95,
   "metadata": {},
   "outputs": [],
   "source": [
    "regex = re.compile('\\d+[\\.,]{0,1}\\d+')"
   ]
  },
  {
   "cell_type": "markdown",
   "metadata": {},
   "source": [
    "Result 1"
   ]
  },
  {
   "cell_type": "code",
   "execution_count": 96,
   "metadata": {},
   "outputs": [
    {
     "name": "stdout",
     "output_type": "stream",
     "text": [
      "Starting Position:  31\n",
      "Ending Position:  36\n",
      "8.747\n"
     ]
    }
   ],
   "source": [
    "search = regex.search(text)\n",
    "print('Starting Position: ', search.start())\n",
    "print('Ending Position: ', search.end())\n",
    "print(text[search.start():search.end()])"
   ]
  },
  {
   "cell_type": "code",
   "execution_count": 97,
   "metadata": {},
   "outputs": [
    {
     "name": "stdout",
     "output_type": "stream",
     "text": [
      "Starting Position:  33\n",
      "Ending Position:  36\n",
      "747\n"
     ]
    }
   ],
   "source": [
    "search = regex.search(text, 32)\n",
    "print('Starting Position: ', search.start())\n",
    "print('Ending Position: ', search.end())\n",
    "print(text[search.start():search.end()])"
   ]
  },
  {
   "cell_type": "code",
   "execution_count": 98,
   "metadata": {},
   "outputs": [
    {
     "name": "stdout",
     "output_type": "stream",
     "text": [
      "Starting Position:  50\n",
      "Ending Position:  54\n",
      "2017\n"
     ]
    }
   ],
   "source": [
    "search = regex.search(text, 36)\n",
    "print('Starting Position: ', search.start())\n",
    "print('Ending Position: ', search.end())\n",
    "print(text[search.start():search.end()])"
   ]
  },
  {
   "cell_type": "code",
   "execution_count": 101,
   "metadata": {},
   "outputs": [
    {
     "name": "stdout",
     "output_type": "stream",
     "text": [
      "None\n"
     ]
    }
   ],
   "source": [
    "regex = re.compile('\\d+[\\.,]{0,1}\\d+')\n",
    "search = regex.match(text)\n",
    "print(search)"
   ]
  },
  {
   "cell_type": "code",
   "execution_count": 104,
   "metadata": {},
   "outputs": [
    {
     "name": "stdout",
     "output_type": "stream",
     "text": [
      "<re.Match object; span=(0, 1), match='H'>\n"
     ]
    }
   ],
   "source": [
    "regex = re.compile('H')\n",
    "search = regex.match(text)\n",
    "print(search)"
   ]
  },
  {
   "cell_type": "markdown",
   "metadata": {},
   "source": [
    "## Groups"
   ]
  },
  {
   "cell_type": "code",
   "execution_count": 105,
   "metadata": {},
   "outputs": [],
   "source": [
    "text = \"\"\"101   COM   Computers\n",
    "205   MAT   Mathematics\n",
    "189   ENG    English\"\"\""
   ]
  },
  {
   "cell_type": "code",
   "execution_count": 106,
   "metadata": {},
   "outputs": [
    {
     "name": "stdout",
     "output_type": "stream",
     "text": [
      "101   COM   Computers\n",
      "205   MAT   Mathematics\n",
      "189   ENG    English\n"
     ]
    }
   ],
   "source": [
    "print(text)"
   ]
  },
  {
   "cell_type": "code",
   "execution_count": 111,
   "metadata": {},
   "outputs": [
    {
     "data": {
      "text/plain": [
       "[('101', 'COM', 'Computers'),\n",
       " ('205', 'MAT', 'Mathematics'),\n",
       " ('189', 'ENG', 'English')]"
      ]
     },
     "execution_count": 111,
     "metadata": {},
     "output_type": "execute_result"
    }
   ],
   "source": [
    "pattern = r'([0-9]+)\\s*([A-Z]{3})\\s*([A-Za-z]{4,})'\n",
    "regex = re.compile(pattern)\n",
    "regex.findall(text)"
   ]
  },
  {
   "cell_type": "code",
   "execution_count": 153,
   "metadata": {},
   "outputs": [],
   "source": [
    "file_list = \"one.txt two.zip three.doc\""
   ]
  },
  {
   "cell_type": "code",
   "execution_count": 162,
   "metadata": {},
   "outputs": [
    {
     "data": {
      "text/plain": [
       "['.txt', '.zip', '.doc']"
      ]
     },
     "execution_count": 162,
     "metadata": {},
     "output_type": "execute_result"
    }
   ],
   "source": [
    "pattern = r'(\\.\\w+)'\n",
    "regex = re.compile(pattern)\n",
    "regex.findall(file_list)"
   ]
  },
  {
   "cell_type": "markdown",
   "metadata": {},
   "source": [
    "## Lookahead "
   ]
  },
  {
   "cell_type": "code",
   "execution_count": 166,
   "metadata": {},
   "outputs": [
    {
     "data": {
      "text/plain": [
       "['100']"
      ]
     },
     "execution_count": 166,
     "metadata": {},
     "output_type": "execute_result"
    }
   ],
   "source": [
    "text = \"100 dollars 200 coins\"\n",
    "# after the match\n",
    "pattern = r\"\\d+(?=\\sdollars)\" # the engine matches the digits, then asserts what immediately \n",
    "                              # follows is the characters \"\\sdollars\"  \n",
    "regex = re.compile(pattern)\n",
    "regex.findall(text)"
   ]
  },
  {
   "cell_type": "code",
   "execution_count": 180,
   "metadata": {},
   "outputs": [
    {
     "data": {
      "text/plain": [
       "['100']"
      ]
     },
     "execution_count": 180,
     "metadata": {},
     "output_type": "execute_result"
    }
   ],
   "source": [
    "pattern = r\"(?=\\d+\\sdollars)\\d+\"\n",
    "# before the match\n",
    "regex = re.compile(pattern) # If the assertion succeeds, the engine matches the digits with \\d+.\n",
    "regex.findall(text)"
   ]
  },
  {
   "cell_type": "markdown",
   "metadata": {},
   "source": [
    "## Negative Lookahead"
   ]
  },
  {
   "cell_type": "code",
   "execution_count": 181,
   "metadata": {},
   "outputs": [
    {
     "data": {
      "text/plain": [
       "['200']"
      ]
     },
     "execution_count": 181,
     "metadata": {},
     "output_type": "execute_result"
    }
   ],
   "source": [
    "# after the match\n",
    "pattern = r\"\\d+(?!\\d|\\sdollars)\" # asserts that at that position in the string, what immediately follows \n",
    "                                # is neither a digit nor the characters \" dollars\"\n",
    "regex = re.compile(pattern)\n",
    "regex.findall(text)"
   ]
  },
  {
   "cell_type": "code",
   "execution_count": 182,
   "metadata": {},
   "outputs": [
    {
     "data": {
      "text/plain": [
       "['200']"
      ]
     },
     "execution_count": 182,
     "metadata": {},
     "output_type": "execute_result"
    }
   ],
   "source": [
    "# before the match\n",
    "pattern = r\"(?!\\d+ dollars)\\d+\"  # asserts that at the current position in the string, what follows is not digits \n",
    "                                # then the characters \" dollars\".\n",
    "regex = re.compile(pattern)\n",
    "regex.findall(text)"
   ]
  },
  {
   "cell_type": "markdown",
   "metadata": {},
   "source": [
    "## Lookbehind"
   ]
  },
  {
   "cell_type": "code",
   "execution_count": 258,
   "metadata": {},
   "outputs": [],
   "source": [
    "text = \"Claim number: 1234567890 Policy number: 0123456789\""
   ]
  },
  {
   "cell_type": "code",
   "execution_count": 240,
   "metadata": {},
   "outputs": [
    {
     "data": {
      "text/plain": [
       "[' 1234567890']"
      ]
     },
     "execution_count": 240,
     "metadata": {},
     "output_type": "execute_result"
    }
   ],
   "source": [
    "# before the match\n",
    "pattern = r\"(?<=Claim\\snumber\\:)\\s*\\d{10}\"\n",
    "regex = re.compile(pattern)    #asserts that at the current position in the string, what precedes is the Claim number:\"\n",
    "regex.findall(text)"
   ]
  },
  {
   "cell_type": "code",
   "execution_count": 259,
   "metadata": {},
   "outputs": [
    {
     "data": {
      "text/plain": [
       "['1234567890']"
      ]
     },
     "execution_count": 259,
     "metadata": {},
     "output_type": "execute_result"
    }
   ],
   "source": [
    "# after the match\n",
    "pattern = r\"\\d{10}(?<=Claim\\snumber\\:\\s\\d{10})\"\n",
    "regex = re.compile(pattern)\n",
    "regex.findall(text)"
   ]
  },
  {
   "cell_type": "markdown",
   "metadata": {},
   "source": [
    "## Negative Lookbehind"
   ]
  },
  {
   "cell_type": "code",
   "execution_count": 274,
   "metadata": {},
   "outputs": [
    {
     "data": {
      "text/plain": [
       "[' 1234567890']"
      ]
     },
     "execution_count": 274,
     "metadata": {},
     "output_type": "execute_result"
    }
   ],
   "source": [
    "# before the match\n",
    "pattern = r\"(?<!Policy\\snumber\\:)\\s\\d{10}\"\n",
    "regex = re.compile(pattern)\n",
    "regex.findall(text)"
   ]
  },
  {
   "cell_type": "code",
   "execution_count": 267,
   "metadata": {},
   "outputs": [
    {
     "data": {
      "text/plain": [
       "['1234567890']"
      ]
     },
     "execution_count": 267,
     "metadata": {},
     "output_type": "execute_result"
    }
   ],
   "source": [
    "# after the match\n",
    "pattern = r\"\\d{10}(?<!Policy\\snumber\\:\\s\\d{10})\"\n",
    "regex = re.compile(pattern)\n",
    "regex.findall(text)"
   ]
  },
  {
   "cell_type": "markdown",
   "metadata": {},
   "source": [
    "### Non-Capturing Groups"
   ]
  },
  {
   "cell_type": "code",
   "execution_count": 296,
   "metadata": {},
   "outputs": [
    {
     "data": {
      "text/plain": [
       "['Bob', 'chloe']"
      ]
     },
     "execution_count": 296,
     "metadata": {},
     "output_type": "execute_result"
    }
   ],
   "source": [
    "text = \"Bob chloe Edgar\"\n",
    "pattern = \"(?i:Bob|Chloe)\"\n",
    "regex = re.compile(pattern)\n",
    "regex.findall(text)"
   ]
  },
  {
   "cell_type": "code",
   "execution_count": 281,
   "metadata": {},
   "outputs": [
    {
     "data": {
      "text/plain": [
       "['GO']"
      ]
     },
     "execution_count": 281,
     "metadata": {},
     "output_type": "execute_result"
    }
   ],
   "source": [
    "text = \"Bob says: GO\"\n",
    "pattern = \"(?:Bob says: (\\w+))\"\n",
    "regex = re.compile(pattern)\n",
    "regex.findall(text)"
   ]
  },
  {
   "cell_type": "code",
   "execution_count": 298,
   "metadata": {},
   "outputs": [
    {
     "data": {
      "text/plain": [
       "['1234567890']"
      ]
     },
     "execution_count": 298,
     "metadata": {},
     "output_type": "execute_result"
    }
   ],
   "source": [
    "text = \"Claim number: 1234567890 Policy number: 0123456789\"\n",
    "pattern = \"(?:Claim number: (\\w+))\"\n",
    "regex = re.compile(pattern)\n",
    "regex.findall(text)"
   ]
  },
  {
   "cell_type": "code",
   "execution_count": 303,
   "metadata": {},
   "outputs": [
    {
     "data": {
      "text/plain": [
       "[]"
      ]
     },
     "execution_count": 303,
     "metadata": {},
     "output_type": "execute_result"
    }
   ],
   "source": [
    "text = \"claim number: 1234567890 Policy number: 0123456789\"\n",
    "pattern = \"(?-i:Claim number: (\\w+))\"\n",
    "regex = re.compile(pattern)\n",
    "regex.findall(text)"
   ]
  },
  {
   "cell_type": "code",
   "execution_count": null,
   "metadata": {},
   "outputs": [],
   "source": [
    "text = \"A00 11B C22D\"\n",
    "pattern = \"(?|A(\\d+)|(\\d+)B|C(\\d+)D)\"\n",
    "regex = re.compile(pattern)\n",
    "regex.findall(text)"
   ]
  },
  {
   "cell_type": "markdown",
   "metadata": {},
   "source": [
    "### References:\n",
    "\n",
    "[Regex](https://pypi.org/project/regex/)"
   ]
  },
  {
   "cell_type": "code",
   "execution_count": null,
   "metadata": {},
   "outputs": [],
   "source": []
  }
 ],
 "metadata": {
  "kernelspec": {
   "display_name": "Python 3",
   "language": "python",
   "name": "python3"
  },
  "language_info": {
   "codemirror_mode": {
    "name": "ipython",
    "version": 3
   },
   "file_extension": ".py",
   "mimetype": "text/x-python",
   "name": "python",
   "nbconvert_exporter": "python",
   "pygments_lexer": "ipython3",
   "version": "3.7.3"
  }
 },
 "nbformat": 4,
 "nbformat_minor": 4
}

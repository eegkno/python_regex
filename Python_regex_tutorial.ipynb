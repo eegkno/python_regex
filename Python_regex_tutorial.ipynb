{
  "nbformat": 4,
  "nbformat_minor": 0,
  "metadata": {
    "kernelspec": {
      "display_name": "Python 3",
      "language": "python",
      "name": "python3"
    },
    "language_info": {
      "codemirror_mode": {
        "name": "ipython",
        "version": 3
      },
      "file_extension": ".py",
      "mimetype": "text/x-python",
      "name": "python",
      "nbconvert_exporter": "python",
      "pygments_lexer": "ipython3",
      "version": "3.7.3"
    },
    "colab": {
      "name": "Python_regex_tutorial.ipynb",
      "provenance": [],
      "toc_visible": true
    }
  },
  "cells": [
    {
      "cell_type": "code",
      "metadata": {
        "id": "m_-88027NIcf",
        "colab_type": "code",
        "colab": {}
      },
      "source": [
        "import re"
      ],
      "execution_count": 0,
      "outputs": []
    },
    {
      "cell_type": "markdown",
      "metadata": {
        "id": "YsjISSLsNIcm",
        "colab_type": "text"
      },
      "source": [
        "## To use or not to use re.compile()"
      ]
    },
    {
      "cell_type": "code",
      "metadata": {
        "id": "oIRy1v9hNIcn",
        "colab_type": "code",
        "colab": {
          "base_uri": "https://localhost:8080/",
          "height": 34
        },
        "outputId": "1f8ccb75-e5df-45a1-ca1a-6361cddf2c3c"
      },
      "source": [
        "!python -m timeit -s \"import re\" \"re.match('hello', 'hello world')\""
      ],
      "execution_count": 1,
      "outputs": [
        {
          "output_type": "stream",
          "text": [
            "1000000 loops, best of 3: 0.56 usec per loop\n"
          ],
          "name": "stdout"
        }
      ]
    },
    {
      "cell_type": "code",
      "metadata": {
        "id": "fzlPZ8p3NIcs",
        "colab_type": "code",
        "colab": {
          "base_uri": "https://localhost:8080/",
          "height": 34
        },
        "outputId": "15ac8a76-aa77-41b6-80b4-4e71a0cc31df"
      },
      "source": [
        "!python -m timeit -s \"import re; h=re.compile('hello')\" \"h.match('hello world')\""
      ],
      "execution_count": 2,
      "outputs": [
        {
          "output_type": "stream",
          "text": [
            "1000000 loops, best of 3: 0.189 usec per loop\n"
          ],
          "name": "stdout"
        }
      ]
    },
    {
      "cell_type": "code",
      "metadata": {
        "id": "pqR00bMvNIcw",
        "colab_type": "code",
        "colab": {
          "base_uri": "https://localhost:8080/",
          "height": 34
        },
        "outputId": "eb91daa0-557d-452e-ab46-3a21eb759415"
      },
      "source": [
        "!python -m timeit -s \"import re; n=1000\" \"[ re.match('hello', 'hello world') for i in range(n) ]\""
      ],
      "execution_count": 4,
      "outputs": [
        {
          "output_type": "stream",
          "text": [
            "1000 loops, best of 3: 600 usec per loop\n"
          ],
          "name": "stdout"
        }
      ]
    },
    {
      "cell_type": "code",
      "metadata": {
        "id": "Q-_SyjRBNIcz",
        "colab_type": "code",
        "colab": {
          "base_uri": "https://localhost:8080/",
          "height": 34
        },
        "outputId": "7eaf3738-7703-4266-a23e-e71bd42fd268"
      },
      "source": [
        "!python -m timeit -s \"import re; n=1000\" \"h=re.compile('hello'); [ h.match('hello world') for i in range(n) ]\""
      ],
      "execution_count": 3,
      "outputs": [
        {
          "output_type": "stream",
          "text": [
            "1000 loops, best of 3: 218 usec per loop\n"
          ],
          "name": "stdout"
        }
      ]
    },
    {
      "cell_type": "markdown",
      "metadata": {
        "id": "0VPWruRYNIc3",
        "colab_type": "text"
      },
      "source": [
        "**Hint**: If you need to use a particular pattern multiple times, it's better to compile it"
      ]
    },
    {
      "cell_type": "markdown",
      "metadata": {
        "id": "hJ6JeGDFNIc4",
        "colab_type": "text"
      },
      "source": [
        "## split()"
      ]
    },
    {
      "cell_type": "code",
      "metadata": {
        "id": "DR2KlBf6NIc5",
        "colab_type": "code",
        "colab": {}
      },
      "source": [
        "text = \"Intact Financial Corporation is   the largest   provider of property and casualty   insurance in Canada\""
      ],
      "execution_count": 0,
      "outputs": []
    },
    {
      "cell_type": "code",
      "metadata": {
        "id": "Hg1UZIg1NIc9",
        "colab_type": "code",
        "colab": {}
      },
      "source": [
        "text.split()"
      ],
      "execution_count": 0,
      "outputs": []
    },
    {
      "cell_type": "code",
      "metadata": {
        "id": "MuAATR8iNIdB",
        "colab_type": "code",
        "colab": {}
      },
      "source": [
        "regex = re.compile(r'\\s+')\n",
        "re.split(regex, text)"
      ],
      "execution_count": 0,
      "outputs": []
    },
    {
      "cell_type": "markdown",
      "metadata": {
        "id": "4mkcS6TDNIdE",
        "colab_type": "text"
      },
      "source": [
        "## findall()"
      ]
    },
    {
      "cell_type": "code",
      "metadata": {
        "id": "-3j2488pNIdG",
        "colab_type": "code",
        "colab": {}
      },
      "source": [
        "text = \"Headquarters: Toronto\\nRevenue: 8.747 billion CAD (2017)\\nNumber of employees: Over 13,000 (2017)\"\n",
        "print(text)"
      ],
      "execution_count": 0,
      "outputs": []
    },
    {
      "cell_type": "code",
      "metadata": {
        "id": "2UiYkWznNIdL",
        "colab_type": "code",
        "colab": {}
      },
      "source": [
        "regex = re.compile('\\d+')\n",
        "regex.findall(text)"
      ],
      "execution_count": 0,
      "outputs": []
    },
    {
      "cell_type": "markdown",
      "metadata": {
        "id": "VSH9u1gdNIdS",
        "colab_type": "text"
      },
      "source": [
        "#### Task: ['8.747', '2017', '13,000', '2017']"
      ]
    },
    {
      "cell_type": "code",
      "metadata": {
        "id": "WTtly0d4NIdT",
        "colab_type": "code",
        "colab": {}
      },
      "source": [
        "regex = re.compile('\\d+[\\.,]{0,1}\\d+')\n",
        "re.findall(regex, text)"
      ],
      "execution_count": 0,
      "outputs": []
    },
    {
      "cell_type": "markdown",
      "metadata": {
        "id": "78bduHcaNIdX",
        "colab_type": "text"
      },
      "source": [
        "## search() vs. match()"
      ]
    },
    {
      "cell_type": "markdown",
      "metadata": {
        "id": "DmCNtu7NNIdY",
        "colab_type": "text"
      },
      "source": [
        "Python offers two different primitive operations based on regular expressions: re.match() checks for a match only at the beginning of the string, while re.search() checks for a match anywhere in the string "
      ]
    },
    {
      "cell_type": "code",
      "metadata": {
        "id": "GcMezxNeNIdZ",
        "colab_type": "code",
        "colab": {}
      },
      "source": [
        "text = \"Headquarters: Toronto\\nRevenue: 8.747 billion CAD (2017)\\nNumber of employees: Over 13,000 (2017)\""
      ],
      "execution_count": 0,
      "outputs": []
    },
    {
      "cell_type": "code",
      "metadata": {
        "id": "Gfohc2gDNIdf",
        "colab_type": "code",
        "colab": {},
        "outputId": "579e878e-e5cf-4ce1-8a97-bbbc4c3f2357"
      },
      "source": [
        "print(text)"
      ],
      "execution_count": 0,
      "outputs": [
        {
          "output_type": "stream",
          "text": [
            "Headquarters: Toronto\n",
            "Revenue: 8.747 billion CAD (2017)\n",
            "Number of employees: Over 13,000 (2017)\n"
          ],
          "name": "stdout"
        }
      ]
    },
    {
      "cell_type": "code",
      "metadata": {
        "id": "SpXZov9bNIdl",
        "colab_type": "code",
        "colab": {}
      },
      "source": [
        "regex = re.compile('\\d+[\\.,]{0,1}\\d+')"
      ],
      "execution_count": 0,
      "outputs": []
    },
    {
      "cell_type": "markdown",
      "metadata": {
        "id": "1cFfHKWHNIdq",
        "colab_type": "text"
      },
      "source": [
        "Result 1"
      ]
    },
    {
      "cell_type": "code",
      "metadata": {
        "id": "_gYNxQQNNIdt",
        "colab_type": "code",
        "colab": {},
        "outputId": "e290e040-d162-4601-9824-345045e1ab90"
      },
      "source": [
        "search = regex.search(text)\n",
        "print('Starting Position: ', search.start())\n",
        "print('Ending Position: ', search.end())\n",
        "print(text[search.start():search.end()])"
      ],
      "execution_count": 0,
      "outputs": [
        {
          "output_type": "stream",
          "text": [
            "Starting Position:  31\n",
            "Ending Position:  36\n",
            "8.747\n"
          ],
          "name": "stdout"
        }
      ]
    },
    {
      "cell_type": "code",
      "metadata": {
        "id": "XwmTAqf_NId0",
        "colab_type": "code",
        "colab": {},
        "outputId": "553e14d7-d7a4-4387-e6a2-401e261ed622"
      },
      "source": [
        "search = regex.search(text, 32)\n",
        "print('Starting Position: ', search.start())\n",
        "print('Ending Position: ', search.end())\n",
        "print(text[search.start():search.end()])"
      ],
      "execution_count": 0,
      "outputs": [
        {
          "output_type": "stream",
          "text": [
            "Starting Position:  33\n",
            "Ending Position:  36\n",
            "747\n"
          ],
          "name": "stdout"
        }
      ]
    },
    {
      "cell_type": "code",
      "metadata": {
        "id": "z2Dvw1PqNId3",
        "colab_type": "code",
        "colab": {},
        "outputId": "f177fedd-fe7a-4d71-95a0-9ef0c85c8f25"
      },
      "source": [
        "search = regex.search(text, 36)\n",
        "print('Starting Position: ', search.start())\n",
        "print('Ending Position: ', search.end())\n",
        "print(text[search.start():search.end()])"
      ],
      "execution_count": 0,
      "outputs": [
        {
          "output_type": "stream",
          "text": [
            "Starting Position:  50\n",
            "Ending Position:  54\n",
            "2017\n"
          ],
          "name": "stdout"
        }
      ]
    },
    {
      "cell_type": "code",
      "metadata": {
        "id": "vR6XBZyYNId7",
        "colab_type": "code",
        "colab": {},
        "outputId": "e2639d4d-5265-4cd4-c023-331270f98a28"
      },
      "source": [
        "regex = re.compile('\\d+[\\.,]{0,1}\\d+')\n",
        "search = regex.match(text)\n",
        "print(search)"
      ],
      "execution_count": 0,
      "outputs": [
        {
          "output_type": "stream",
          "text": [
            "None\n"
          ],
          "name": "stdout"
        }
      ]
    },
    {
      "cell_type": "code",
      "metadata": {
        "id": "9SY2L4D1NIeI",
        "colab_type": "code",
        "colab": {},
        "outputId": "dd65133a-fd09-468b-9ef7-711891605b9c"
      },
      "source": [
        "regex = re.compile('H')\n",
        "search = regex.match(text)\n",
        "print(search)"
      ],
      "execution_count": 0,
      "outputs": [
        {
          "output_type": "stream",
          "text": [
            "<re.Match object; span=(0, 1), match='H'>\n"
          ],
          "name": "stdout"
        }
      ]
    },
    {
      "cell_type": "markdown",
      "metadata": {
        "id": "W-dbMbiuNIeN",
        "colab_type": "text"
      },
      "source": [
        "## Groups"
      ]
    },
    {
      "cell_type": "code",
      "metadata": {
        "id": "Ocqt3Ak4NIeP",
        "colab_type": "code",
        "colab": {}
      },
      "source": [
        "text = \"\"\"101   COM   Computers\n",
        "205   MAT   Mathematics\n",
        "189   ENG    English\"\"\""
      ],
      "execution_count": 0,
      "outputs": []
    },
    {
      "cell_type": "code",
      "metadata": {
        "id": "U-3DFsadNIeS",
        "colab_type": "code",
        "colab": {},
        "outputId": "8716e14b-f9fa-433a-9222-1a2b9b3b5d51"
      },
      "source": [
        "print(text)"
      ],
      "execution_count": 0,
      "outputs": [
        {
          "output_type": "stream",
          "text": [
            "101   COM   Computers\n",
            "205   MAT   Mathematics\n",
            "189   ENG    English\n"
          ],
          "name": "stdout"
        }
      ]
    },
    {
      "cell_type": "code",
      "metadata": {
        "id": "nZNFoDGgNIeV",
        "colab_type": "code",
        "colab": {},
        "outputId": "9ee4fcca-2d8b-4cf4-cfe9-085d17ef8317"
      },
      "source": [
        "pattern = r'([0-9]+)\\s*([A-Z]{3})\\s*([A-Za-z]{4,})'\n",
        "regex = re.compile(pattern)\n",
        "regex.findall(text)"
      ],
      "execution_count": 0,
      "outputs": [
        {
          "output_type": "execute_result",
          "data": {
            "text/plain": [
              "[('101', 'COM', 'Computers'),\n",
              " ('205', 'MAT', 'Mathematics'),\n",
              " ('189', 'ENG', 'English')]"
            ]
          },
          "metadata": {
            "tags": []
          },
          "execution_count": 111
        }
      ]
    },
    {
      "cell_type": "code",
      "metadata": {
        "id": "11oJCSuvNIea",
        "colab_type": "code",
        "colab": {}
      },
      "source": [
        "file_list = \"one.txt two.zip three.doc\""
      ],
      "execution_count": 0,
      "outputs": []
    },
    {
      "cell_type": "code",
      "metadata": {
        "id": "yWWHZ1Y6NIed",
        "colab_type": "code",
        "colab": {},
        "outputId": "ccc3734a-4167-4bbc-c3eb-718fcb1b14be"
      },
      "source": [
        "pattern = r'(\\.\\w+)'\n",
        "regex = re.compile(pattern)\n",
        "regex.findall(file_list)"
      ],
      "execution_count": 0,
      "outputs": [
        {
          "output_type": "execute_result",
          "data": {
            "text/plain": [
              "['.txt', '.zip', '.doc']"
            ]
          },
          "metadata": {
            "tags": []
          },
          "execution_count": 162
        }
      ]
    },
    {
      "cell_type": "markdown",
      "metadata": {
        "id": "FYOmAr-qNIej",
        "colab_type": "text"
      },
      "source": [
        "## Lookahead "
      ]
    },
    {
      "cell_type": "code",
      "metadata": {
        "id": "boRs6RA6NIek",
        "colab_type": "code",
        "colab": {},
        "outputId": "a132ea70-9f3b-4810-a558-0a4089eefdea"
      },
      "source": [
        "text = \"100 dollars 200 coins\"\n",
        "# after the match\n",
        "pattern = r\"\\d+(?=\\sdollars)\" # the engine matches the digits, then asserts what immediately \n",
        "                              # follows is the characters \"\\sdollars\"  \n",
        "regex = re.compile(pattern)\n",
        "regex.findall(text)"
      ],
      "execution_count": 0,
      "outputs": [
        {
          "output_type": "execute_result",
          "data": {
            "text/plain": [
              "['100']"
            ]
          },
          "metadata": {
            "tags": []
          },
          "execution_count": 166
        }
      ]
    },
    {
      "cell_type": "code",
      "metadata": {
        "id": "n3NMTY-ANIeq",
        "colab_type": "code",
        "colab": {},
        "outputId": "0c130c67-d8b0-426a-91cc-7c108f9a51fb"
      },
      "source": [
        "pattern = r\"(?=\\d+\\sdollars)\\d+\"\n",
        "# before the match\n",
        "regex = re.compile(pattern) # If the assertion succeeds, the engine matches the digits with \\d+.\n",
        "regex.findall(text)"
      ],
      "execution_count": 0,
      "outputs": [
        {
          "output_type": "execute_result",
          "data": {
            "text/plain": [
              "['100']"
            ]
          },
          "metadata": {
            "tags": []
          },
          "execution_count": 180
        }
      ]
    },
    {
      "cell_type": "markdown",
      "metadata": {
        "id": "Pg6s3P0NNIeu",
        "colab_type": "text"
      },
      "source": [
        "## Negative Lookahead"
      ]
    },
    {
      "cell_type": "code",
      "metadata": {
        "id": "NxoFhSD8NIew",
        "colab_type": "code",
        "colab": {},
        "outputId": "e3b7beb7-b629-4768-b0ce-ac1b47d832d8"
      },
      "source": [
        "# after the match\n",
        "pattern = r\"\\d+(?!\\d|\\sdollars)\" # asserts that at that position in the string, what immediately follows \n",
        "                                # is neither a digit nor the characters \" dollars\"\n",
        "regex = re.compile(pattern)\n",
        "regex.findall(text)"
      ],
      "execution_count": 0,
      "outputs": [
        {
          "output_type": "execute_result",
          "data": {
            "text/plain": [
              "['200']"
            ]
          },
          "metadata": {
            "tags": []
          },
          "execution_count": 181
        }
      ]
    },
    {
      "cell_type": "code",
      "metadata": {
        "id": "zR_8IQsUNIe6",
        "colab_type": "code",
        "colab": {},
        "outputId": "8630af4f-c666-4f4d-9df2-504937211c76"
      },
      "source": [
        "# before the match\n",
        "pattern = r\"(?!\\d+ dollars)\\d+\"  # asserts that at the current position in the string, what follows is not digits \n",
        "                                # then the characters \" dollars\".\n",
        "regex = re.compile(pattern)\n",
        "regex.findall(text)"
      ],
      "execution_count": 0,
      "outputs": [
        {
          "output_type": "execute_result",
          "data": {
            "text/plain": [
              "['200']"
            ]
          },
          "metadata": {
            "tags": []
          },
          "execution_count": 182
        }
      ]
    },
    {
      "cell_type": "markdown",
      "metadata": {
        "id": "KMaMZvFhNIe-",
        "colab_type": "text"
      },
      "source": [
        "## Lookbehind"
      ]
    },
    {
      "cell_type": "code",
      "metadata": {
        "id": "a8pxkujENIfD",
        "colab_type": "code",
        "colab": {}
      },
      "source": [
        "text = \"Claim number: 1234567890 Policy number: 0123456789\""
      ],
      "execution_count": 0,
      "outputs": []
    },
    {
      "cell_type": "code",
      "metadata": {
        "id": "aAzeI6BANIfH",
        "colab_type": "code",
        "colab": {},
        "outputId": "f15f7be9-18e5-4b67-e5dc-bb43c7792193"
      },
      "source": [
        "# before the match\n",
        "pattern = r\"(?<=Claim\\snumber\\:)\\s*\\d{10}\"\n",
        "regex = re.compile(pattern)    #asserts that at the current position in the string, what precedes is the Claim number:\"\n",
        "regex.findall(text)"
      ],
      "execution_count": 0,
      "outputs": [
        {
          "output_type": "execute_result",
          "data": {
            "text/plain": [
              "[' 1234567890']"
            ]
          },
          "metadata": {
            "tags": []
          },
          "execution_count": 240
        }
      ]
    },
    {
      "cell_type": "code",
      "metadata": {
        "id": "ZseSGPXVNIfK",
        "colab_type": "code",
        "colab": {},
        "outputId": "ccbe024c-8d3e-4641-c26a-0e8ea1a79765"
      },
      "source": [
        "# after the match\n",
        "pattern = r\"\\d{10}(?<=Claim\\snumber\\:\\s\\d{10})\"\n",
        "regex = re.compile(pattern)\n",
        "regex.findall(text)"
      ],
      "execution_count": 0,
      "outputs": [
        {
          "output_type": "execute_result",
          "data": {
            "text/plain": [
              "['1234567890']"
            ]
          },
          "metadata": {
            "tags": []
          },
          "execution_count": 259
        }
      ]
    },
    {
      "cell_type": "markdown",
      "metadata": {
        "id": "5-wWtzlINIfN",
        "colab_type": "text"
      },
      "source": [
        "## Negative Lookbehind"
      ]
    },
    {
      "cell_type": "code",
      "metadata": {
        "id": "cWpXMHufNIfO",
        "colab_type": "code",
        "colab": {},
        "outputId": "b04349c5-26ad-4006-fc4f-1db7c805123b"
      },
      "source": [
        "# before the match\n",
        "pattern = r\"(?<!Policy\\snumber\\:)\\s\\d{10}\"\n",
        "regex = re.compile(pattern)\n",
        "regex.findall(text)"
      ],
      "execution_count": 0,
      "outputs": [
        {
          "output_type": "execute_result",
          "data": {
            "text/plain": [
              "[' 1234567890']"
            ]
          },
          "metadata": {
            "tags": []
          },
          "execution_count": 274
        }
      ]
    },
    {
      "cell_type": "code",
      "metadata": {
        "id": "5lBgRFKiNIfT",
        "colab_type": "code",
        "colab": {},
        "outputId": "0cf50b05-ac0f-4706-935c-4e808103dd8e"
      },
      "source": [
        "# after the match\n",
        "pattern = r\"\\d{10}(?<!Policy\\snumber\\:\\s\\d{10})\"\n",
        "regex = re.compile(pattern)\n",
        "regex.findall(text)"
      ],
      "execution_count": 0,
      "outputs": [
        {
          "output_type": "execute_result",
          "data": {
            "text/plain": [
              "['1234567890']"
            ]
          },
          "metadata": {
            "tags": []
          },
          "execution_count": 267
        }
      ]
    },
    {
      "cell_type": "markdown",
      "metadata": {
        "id": "i-WtskehNIfY",
        "colab_type": "text"
      },
      "source": [
        "### Non-Capturing Groups"
      ]
    },
    {
      "cell_type": "code",
      "metadata": {
        "id": "MmyX-Sm0NIfZ",
        "colab_type": "code",
        "colab": {},
        "outputId": "8c788d0e-32eb-4aea-e442-cfdddae90c98"
      },
      "source": [
        "text = \"Bob chloe Edgar\"\n",
        "pattern = \"(?i:Bob|Chloe)\"\n",
        "regex = re.compile(pattern)\n",
        "regex.findall(text)"
      ],
      "execution_count": 0,
      "outputs": [
        {
          "output_type": "execute_result",
          "data": {
            "text/plain": [
              "['Bob', 'chloe']"
            ]
          },
          "metadata": {
            "tags": []
          },
          "execution_count": 296
        }
      ]
    },
    {
      "cell_type": "code",
      "metadata": {
        "id": "EZ04RjWlNIff",
        "colab_type": "code",
        "colab": {},
        "outputId": "6ca8a904-e172-4c2f-ddb3-937a26c4e1c8"
      },
      "source": [
        "text = \"Bob says: GO\"\n",
        "pattern = \"(?:Bob says: (\\w+))\"\n",
        "regex = re.compile(pattern)\n",
        "regex.findall(text)"
      ],
      "execution_count": 0,
      "outputs": [
        {
          "output_type": "execute_result",
          "data": {
            "text/plain": [
              "['GO']"
            ]
          },
          "metadata": {
            "tags": []
          },
          "execution_count": 281
        }
      ]
    },
    {
      "cell_type": "code",
      "metadata": {
        "id": "8nCjNPidNIfj",
        "colab_type": "code",
        "colab": {},
        "outputId": "27a9a57f-04f9-401d-e71e-11187e5cd647"
      },
      "source": [
        "text = \"Claim number: 1234567890 Policy number: 0123456789\"\n",
        "pattern = \"(?:Claim number: (\\w+))\"\n",
        "regex = re.compile(pattern)\n",
        "regex.findall(text)"
      ],
      "execution_count": 0,
      "outputs": [
        {
          "output_type": "execute_result",
          "data": {
            "text/plain": [
              "['1234567890']"
            ]
          },
          "metadata": {
            "tags": []
          },
          "execution_count": 298
        }
      ]
    },
    {
      "cell_type": "code",
      "metadata": {
        "id": "2f-PTy6CNIfp",
        "colab_type": "code",
        "colab": {},
        "outputId": "824064e9-9081-47c4-c1c5-a59f5d8f8219"
      },
      "source": [
        "text = \"claim number: 1234567890 Policy number: 0123456789\"\n",
        "pattern = \"(?-i:Claim number: (\\w+))\"\n",
        "regex = re.compile(pattern)\n",
        "regex.findall(text)"
      ],
      "execution_count": 0,
      "outputs": [
        {
          "output_type": "execute_result",
          "data": {
            "text/plain": [
              "[]"
            ]
          },
          "metadata": {
            "tags": []
          },
          "execution_count": 303
        }
      ]
    },
    {
      "cell_type": "code",
      "metadata": {
        "id": "gARo3zl7NIfv",
        "colab_type": "code",
        "colab": {}
      },
      "source": [
        "text = \"A00 11B C22D\"\n",
        "pattern = \"(?|A(\\d+)|(\\d+)B|C(\\d+)D)\"\n",
        "regex = re.compile(pattern)\n",
        "regex.findall(text)"
      ],
      "execution_count": 0,
      "outputs": []
    },
    {
      "cell_type": "markdown",
      "metadata": {
        "id": "1bWCrN4INIfz",
        "colab_type": "text"
      },
      "source": [
        "### References:\n",
        "\n",
        "[Regex](https://pypi.org/project/regex/)"
      ]
    },
    {
      "cell_type": "code",
      "metadata": {
        "id": "BH7IFGYTNIf2",
        "colab_type": "code",
        "colab": {}
      },
      "source": [
        ""
      ],
      "execution_count": 0,
      "outputs": []
    }
  ]
}